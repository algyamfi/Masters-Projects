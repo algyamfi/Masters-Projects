{
 "cells": [
  {
   "cell_type": "code",
   "execution_count": 1,
   "id": "46a68f95",
   "metadata": {},
   "outputs": [],
   "source": [
    "#Import all the libraries necessary to this research\n",
    "\n",
    "#Data Preparation and Analysis\n",
    "import json\n",
    "import pandas as pd\n",
    "import numpy as np\n",
    "\n",
    "#Data Visualization \n",
    "import matplotlib as mpl\n",
    "import matplotlib.pyplot as plt\n",
    "%matplotlib inline\n",
    "import seaborn as sns\n",
    "from pylab import rcParams\n",
    "\n",
    "\n",
    "\n",
    "# NLP Model and Model Analysis\n",
    "import nltk\n",
    "from nltk.corpus import stopwords\n",
    "from keras import metrics\n",
    "from keras.callbacks import EarlyStopping\n",
    "from sklearn.model_selection import train_test_split\n",
    "from sklearn.metrics import classification_report\n",
    "from sklearn.metrics import confusion_matrix\n",
    "import tensorflow as tf\n",
    "from tensorflow.keras.preprocessing.text import Tokenizer\n",
    "from tensorflow.keras.models import Sequential\n",
    "from tensorflow.keras.layers import LSTM,Dense, Dropout\n",
    "from tensorflow.keras.layers import Embedding\n",
    "from tensorflow.keras.preprocessing.sequence import pad_sequences\n",
    "from tensorflow.keras.layers import SpatialDropout1D\n",
    "\n",
    "# Disable Warnings\n",
    "from warnings import filterwarnings"
   ]
  },
  {
   "cell_type": "code",
   "execution_count": 2,
   "id": "e88b1127",
   "metadata": {},
   "outputs": [],
   "source": [
    "filterwarnings('ignore') "
   ]
  },
  {
   "cell_type": "markdown",
   "id": "4c6e9e60",
   "metadata": {},
   "source": [
    "# Part I: Research Question\n",
    "\n",
    "\n",
    "# A1. RESEARCH QUESTION\n",
    "Can Sentiment Analysis be employed as a means to predict the emotional tone of users from the content of their reviews?\n",
    "\n",
    "\n",
    "\n",
    "\n",
    "\n",
    "# \n",
    "\n",
    "\n",
    "\n",
    "\n",
    "\n",
    "# A2. OBJECTIVES AND GOALS\n",
    "The goal of this analysis is to develop a robust predictive model capable of accurately forecasting the sentiments expressed in user reviews with a minimum accuracy of 85%.\n",
    "\n",
    "\n",
    "\n",
    "\n",
    "# \n",
    "\n",
    "\n",
    "\n",
    "\n",
    "\n",
    "\n",
    "# A3. PRESCRIBED NETWORK \n",
    "\n",
    "In this Sentiment Analysis experiment, I have chosen the LSTM network, which stands for Long Short-Term Memory networks. LSTM is a type of Deep Learning model extensively utilized in various applications. It falls under the category of Recurrent Neural Networks (RNNs) and excels at learning long-term dependencies, particularly in sequence prediction tasks. \n",
    "\n",
    "Unlike conventional RNNs, which can struggle with long sequences, LSTM incorporates unique feedback connections, granting it the exceptional capability to process entire sequences of data. This aspect makes LSTM particularly well-suited for tasks involving sequential data, such as text, speech, and time-series data.\n",
    "\n",
    "In the field of Sentiment Analysis, the LSTM network shines brightly, allowing us to analyze and understand the emotions and opinions expressed in user reviews and social media posts. Additionally, LSTM's versatility extends to various other domains, including Language modeling, where it excels in predicting and generating text; Machine translation, where it enables accurate language translation; Handwriting recognition, making it adept at interpreting handwritten text; and Image captioning, enabling it to generate descriptive captions for images (Intellipaat, 2022).\n",
    "\n",
    "Through the remarkable performance and widespread applications of LSTM, it has become a cornerstone of modern Deep Learning and continues to unlock new possibilities in the realm of artificial intelligence.\n",
    "\n",
    "\n",
    "\n",
    "# \n",
    "\n",
    "\n",
    "\n",
    "\n",
    "\n",
    "\n",
    "# B1. DATA EXPLORATION"
   ]
  },
  {
   "cell_type": "code",
   "execution_count": 3,
   "id": "9319204f",
   "metadata": {},
   "outputs": [
    {
     "name": "stderr",
     "output_type": "stream",
     "text": [
      "[nltk_data] Error loading stopwords: <urlopen error [Errno 11001]\n",
      "[nltk_data]     getaddrinfo failed>\n"
     ]
    },
    {
     "data": {
      "text/plain": [
       "False"
      ]
     },
     "execution_count": 3,
     "metadata": {},
     "output_type": "execute_result"
    }
   ],
   "source": [
    "# Download the nltk stopwords package  \n",
    "# Reference I1\n",
    "\n",
    "nltk.download('stopwords')"
   ]
  },
  {
   "cell_type": "code",
   "execution_count": 4,
   "id": "dfc91dd2",
   "metadata": {},
   "outputs": [
    {
     "data": {
      "text/html": [
       "<div>\n",
       "<style scoped>\n",
       "    .dataframe tbody tr th:only-of-type {\n",
       "        vertical-align: middle;\n",
       "    }\n",
       "\n",
       "    .dataframe tbody tr th {\n",
       "        vertical-align: top;\n",
       "    }\n",
       "\n",
       "    .dataframe thead th {\n",
       "        text-align: right;\n",
       "    }\n",
       "</style>\n",
       "<table border=\"1\" class=\"dataframe\">\n",
       "  <thead>\n",
       "    <tr style=\"text-align: right;\">\n",
       "      <th></th>\n",
       "      <th>Customer Review</th>\n",
       "      <th>Sentiment Score</th>\n",
       "    </tr>\n",
       "  </thead>\n",
       "  <tbody>\n",
       "    <tr>\n",
       "      <th>0</th>\n",
       "      <td>So there is no way for me to plug it in here i...</td>\n",
       "      <td>0</td>\n",
       "    </tr>\n",
       "    <tr>\n",
       "      <th>1</th>\n",
       "      <td>Good case, Excellent value.</td>\n",
       "      <td>1</td>\n",
       "    </tr>\n",
       "    <tr>\n",
       "      <th>2</th>\n",
       "      <td>Great for the jawbone.</td>\n",
       "      <td>1</td>\n",
       "    </tr>\n",
       "    <tr>\n",
       "      <th>3</th>\n",
       "      <td>Tied to charger for conversations lasting more...</td>\n",
       "      <td>0</td>\n",
       "    </tr>\n",
       "    <tr>\n",
       "      <th>4</th>\n",
       "      <td>The mic is great.</td>\n",
       "      <td>1</td>\n",
       "    </tr>\n",
       "  </tbody>\n",
       "</table>\n",
       "</div>"
      ],
      "text/plain": [
       "                                     Customer Review  Sentiment Score\n",
       "0  So there is no way for me to plug it in here i...                0\n",
       "1                        Good case, Excellent value.                1\n",
       "2                             Great for the jawbone.                1\n",
       "3  Tied to charger for conversations lasting more...                0\n",
       "4                                  The mic is great.                1"
      ]
     },
     "execution_count": 4,
     "metadata": {},
     "output_type": "execute_result"
    }
   ],
   "source": [
    "# Import Data\n",
    "# Reference I2\n",
    "az_data = pd.read_csv('amazon_cells_labelled.txt', header=None, delimiter = \"\\t\", \n",
    "                      names=[\"Customer Review\", \"Sentiment Score\"])\n",
    "\n",
    "# Print Head\n",
    "az_data.head()"
   ]
  },
  {
   "cell_type": "code",
   "execution_count": 5,
   "id": "48555dc1",
   "metadata": {},
   "outputs": [
    {
     "name": "stdout",
     "output_type": "stream",
     "text": [
      "<class 'pandas.core.frame.DataFrame'>\n",
      "RangeIndex: 1000 entries, 0 to 999\n",
      "Data columns (total 2 columns):\n",
      " #   Column           Non-Null Count  Dtype \n",
      "---  ------           --------------  ----- \n",
      " 0   Customer Review  1000 non-null   object\n",
      " 1   Sentiment Score  1000 non-null   int64 \n",
      "dtypes: int64(1), object(1)\n",
      "memory usage: 15.8+ KB\n"
     ]
    }
   ],
   "source": [
    "# Explore data\n",
    "\n",
    "az_data.info()"
   ]
  },
  {
   "cell_type": "markdown",
   "id": "523c5bf4",
   "metadata": {},
   "source": [
    "# Data Preparation \n",
    "\n",
    "\n",
    "\n",
    "# Transform to lower case\n",
    "\n",
    "In this step all review text is converted to lower case. Apart from being essential in the data preprocessing phase, this step \n",
    "is also very important in the later steps of the analysis"
   ]
  },
  {
   "cell_type": "code",
   "execution_count": 6,
   "id": "131824e6",
   "metadata": {},
   "outputs": [],
   "source": [
    "# Lower Case Conversion\n",
    "    \n",
    "az_data['Customer Review'] = az_data['Customer Review'].apply(lambda a: a.lower()) "
   ]
  },
  {
   "cell_type": "code",
   "execution_count": 7,
   "id": "a481c980",
   "metadata": {},
   "outputs": [
    {
     "data": {
      "text/html": [
       "<div>\n",
       "<style scoped>\n",
       "    .dataframe tbody tr th:only-of-type {\n",
       "        vertical-align: middle;\n",
       "    }\n",
       "\n",
       "    .dataframe tbody tr th {\n",
       "        vertical-align: top;\n",
       "    }\n",
       "\n",
       "    .dataframe thead th {\n",
       "        text-align: right;\n",
       "    }\n",
       "</style>\n",
       "<table border=\"1\" class=\"dataframe\">\n",
       "  <thead>\n",
       "    <tr style=\"text-align: right;\">\n",
       "      <th></th>\n",
       "      <th>Customer Review</th>\n",
       "      <th>Sentiment Score</th>\n",
       "    </tr>\n",
       "  </thead>\n",
       "  <tbody>\n",
       "    <tr>\n",
       "      <th>0</th>\n",
       "      <td>so there is no way for me to plug it in here i...</td>\n",
       "      <td>0</td>\n",
       "    </tr>\n",
       "    <tr>\n",
       "      <th>1</th>\n",
       "      <td>good case, excellent value.</td>\n",
       "      <td>1</td>\n",
       "    </tr>\n",
       "    <tr>\n",
       "      <th>2</th>\n",
       "      <td>great for the jawbone.</td>\n",
       "      <td>1</td>\n",
       "    </tr>\n",
       "    <tr>\n",
       "      <th>3</th>\n",
       "      <td>tied to charger for conversations lasting more...</td>\n",
       "      <td>0</td>\n",
       "    </tr>\n",
       "    <tr>\n",
       "      <th>4</th>\n",
       "      <td>the mic is great.</td>\n",
       "      <td>1</td>\n",
       "    </tr>\n",
       "  </tbody>\n",
       "</table>\n",
       "</div>"
      ],
      "text/plain": [
       "                                     Customer Review  Sentiment Score\n",
       "0  so there is no way for me to plug it in here i...                0\n",
       "1                        good case, excellent value.                1\n",
       "2                             great for the jawbone.                1\n",
       "3  tied to charger for conversations lasting more...                0\n",
       "4                                  the mic is great.                1"
      ]
     },
     "execution_count": 7,
     "metadata": {},
     "output_type": "execute_result"
    }
   ],
   "source": [
    "#Verify changes\n",
    "    \n",
    "az_data.head() "
   ]
  },
  {
   "cell_type": "markdown",
   "id": "f159fad4",
   "metadata": {},
   "source": [
    "# \n",
    "\n",
    "\n",
    "\n",
    "# Presence of unusual characters"
   ]
  },
  {
   "cell_type": "code",
   "execution_count": 8,
   "id": "17c74638",
   "metadata": {},
   "outputs": [],
   "source": [
    "# Place all unusual characters in a list \n",
    "# Reference I3\n",
    "\n",
    "review_data = az_data['Customer Review'].tolist()\n",
    "\n",
    "uc_data = [\"\".join([a for a in b if not a.isalpha()]) for b in review_data]"
   ]
  },
  {
   "cell_type": "code",
   "execution_count": 9,
   "id": "e4064d67",
   "metadata": {},
   "outputs": [
    {
     "name": "stdout",
     "output_type": "stream",
     "text": [
      "['                    .', ' ,  .', '   .', '        45 . !!', '   .', '                .', '        ,            .', '    ...   !', '  ,    .', '      !.', '     .', '             .', '        5+             .', '   ', '    ,    \"\"      .', '          .', '      !', '   !.', ' !.', '                .', \"   '     ,        .\", '            !', '     .', \"            '    .\", '             .', '   /  .', \"'     7       '     ' .\", \" '         .\", '                 .', \"'  .\", '       ,     .', '            .', '         .', '             .', '                 . ', '    3                .   .', '     .', '   .', '         680.', ' .', '      2,           .', '      .', '   .', '     .', '  .', '      ', '         ?.', '              .', '    .', '  .']\n"
     ]
    }
   ],
   "source": [
    "# Print list up till 50th index\n",
    "\n",
    "print(uc_data[:50])"
   ]
  },
  {
   "cell_type": "code",
   "execution_count": 10,
   "id": "1ac53c31",
   "metadata": {},
   "outputs": [
    {
     "data": {
      "text/html": [
       "<div>\n",
       "<style scoped>\n",
       "    .dataframe tbody tr th:only-of-type {\n",
       "        vertical-align: middle;\n",
       "    }\n",
       "\n",
       "    .dataframe tbody tr th {\n",
       "        vertical-align: top;\n",
       "    }\n",
       "\n",
       "    .dataframe thead th {\n",
       "        text-align: right;\n",
       "    }\n",
       "</style>\n",
       "<table border=\"1\" class=\"dataframe\">\n",
       "  <thead>\n",
       "    <tr style=\"text-align: right;\">\n",
       "      <th></th>\n",
       "      <th>Customer Review</th>\n",
       "      <th>Sentiment Score</th>\n",
       "    </tr>\n",
       "  </thead>\n",
       "  <tbody>\n",
       "    <tr>\n",
       "      <th>0</th>\n",
       "      <td>so there is no way for me to plug it in here i...</td>\n",
       "      <td>0</td>\n",
       "    </tr>\n",
       "    <tr>\n",
       "      <th>1</th>\n",
       "      <td>good case excellent value</td>\n",
       "      <td>1</td>\n",
       "    </tr>\n",
       "    <tr>\n",
       "      <th>2</th>\n",
       "      <td>great for the jawbone</td>\n",
       "      <td>1</td>\n",
       "    </tr>\n",
       "    <tr>\n",
       "      <th>3</th>\n",
       "      <td>tied to charger for conversations lasting more...</td>\n",
       "      <td>0</td>\n",
       "    </tr>\n",
       "    <tr>\n",
       "      <th>4</th>\n",
       "      <td>the mic is great</td>\n",
       "      <td>1</td>\n",
       "    </tr>\n",
       "  </tbody>\n",
       "</table>\n",
       "</div>"
      ],
      "text/plain": [
       "                                     Customer Review  Sentiment Score\n",
       "0  so there is no way for me to plug it in here i...                0\n",
       "1                          good case excellent value                1\n",
       "2                              great for the jawbone                1\n",
       "3  tied to charger for conversations lasting more...                0\n",
       "4                                   the mic is great                1"
      ]
     },
     "execution_count": 10,
     "metadata": {},
     "output_type": "execute_result"
    }
   ],
   "source": [
    "# All unusual chars will be removed\n",
    "\n",
    "az_data['Customer Review'] = az_data['Customer Review'].str.replace('[^a-zA-Z\\s]', '')\n",
    "az_data.head()"
   ]
  },
  {
   "cell_type": "code",
   "execution_count": 11,
   "id": "17937ec9",
   "metadata": {},
   "outputs": [],
   "source": [
    "# Verify whether there are any remaining unusual characters.\n",
    "# Repeat list step\n",
    "\n",
    "review_data = az_data['Customer Review'].tolist()\n",
    "uc_data = [\"\".join([a for a in b if not a.isalpha()]) for b in review_data]"
   ]
  },
  {
   "cell_type": "code",
   "execution_count": 12,
   "id": "aa6e328c",
   "metadata": {},
   "outputs": [
    {
     "name": "stdout",
     "output_type": "stream",
     "text": [
      "['                    ', '   ', '   ', '          ', '   ', '                ', '                    ', '       ', '      ', '      ', '     ', '             ', '                     ', '   ', '              ', '          ', '      ', '   ', ' ', '                ', '                ', '            ', '     ', '                ', '             ', '     ', '                  ', '          ', '                 ', '  ', '            ', '            ', '         ', '             ', '                  ', '                       ', '     ', '   ', '         ', ' ', '                 ', '      ', '   ', '     ', '  ', '      ', '         ', '              ', '    ', '  ']\n"
     ]
    }
   ],
   "source": [
    "# Print list up till 50th index\n",
    "\n",
    "print(uc_data[:50])"
   ]
  },
  {
   "cell_type": "markdown",
   "id": "e3ee24e9",
   "metadata": {},
   "source": [
    "Apart from commas, the above results indicate that all other unusual characters have been successfully eliminated."
   ]
  },
  {
   "cell_type": "markdown",
   "id": "64777f51",
   "metadata": {},
   "source": [
    "# \n",
    "\n",
    "\n",
    "\n",
    "\n",
    "\n",
    "\n",
    "\n",
    "\n",
    "\n",
    "# Vocabulary Size\n",
    "During the tokenization process in Section B2 below, the vocabulary size is determined to be 1749."
   ]
  },
  {
   "cell_type": "markdown",
   "id": "2ef8bb8e",
   "metadata": {},
   "source": [
    "# \n",
    "\n",
    "\n",
    "\n",
    "\n",
    "\n",
    "# Proposed Word Embedding Length\n",
    "By applying the \"empirical rule of thumb,\" a word embedded length of 6 was selected for the analysis. The word embedding represents the total number of dimensions used to represent each word in the embedding space. The choice of this length is based on the fourth rule, which is the consideration of all possibilities for embedding dimensions.\n",
    "\n",
    "When selecting the dimensions for word embeddings, there is a trade-off between higher and lower dimensions. Higher dimensions can potentially lead to increased accuracy, but they may also result in an overfit model, where the model performs well on the training data but poorly on new data. On the other hand, lower dimensions can help in reducing the risk of overfitting but might sacrifice some level of accuracy in modeling. Hence, it is crucial to strike a balance and choose the word embedded length that best suits the specific task and dataset to achieve optimal performance in sentiment analysis."
   ]
  },
  {
   "cell_type": "code",
   "execution_count": 13,
   "id": "b8eb1756",
   "metadata": {},
   "outputs": [
    {
     "data": {
      "text/plain": [
       "6.466919462360187"
      ]
     },
     "execution_count": 13,
     "metadata": {},
     "output_type": "execute_result"
    }
   ],
   "source": [
    "# Find the 4th root of Vocab size\n",
    "\n",
    "length_ = 1749 ** (1.0 / 4)\n",
    "length_"
   ]
  },
  {
   "cell_type": "markdown",
   "id": "0ee49f39",
   "metadata": {},
   "source": [
    "# \n",
    "\n",
    "\n",
    "\n",
    "\n",
    "\n",
    "\n",
    "# Statistical Justification for the Chosen Maximum Sequence Length\n",
    "\n",
    "To determine the appropriate amount of padding, I analyzed the summary statistics of the word count in each Customer Review The average number of words was 34, centered around the 54th percentile, indicating that approximately 46% of reviews contained more words than the mean. The longest review had 91 words. Additionally, I examined the 90th, 95th, and 99th percentiles, which had approxiamtely 72, 78, and 88 words, respectively. To ensure that almost all words are captured during padding, I opted to select the 99th percentile."
   ]
  },
  {
   "cell_type": "code",
   "execution_count": 14,
   "id": "74dbfb07",
   "metadata": {},
   "outputs": [],
   "source": [
    "# Calculate number, of words\n",
    "\n",
    "wrds = az_data['Customer Review'].str.split().apply(len).value_counts()"
   ]
  },
  {
   "cell_type": "code",
   "execution_count": 15,
   "id": "3792023f",
   "metadata": {},
   "outputs": [
    {
     "data": {
      "text/plain": [
       "count    29.000000\n",
       "mean     34.482759\n",
       "std      25.036574\n",
       "min       1.000000\n",
       "25%      16.000000\n",
       "50%      31.000000\n",
       "75%      44.000000\n",
       "max      91.000000\n",
       "Name: Customer Review, dtype: float64"
      ]
     },
     "execution_count": 15,
     "metadata": {},
     "output_type": "execute_result"
    }
   ],
   "source": [
    "# Run Summary statistics\n",
    "\n",
    "wrds.describe()"
   ]
  },
  {
   "cell_type": "code",
   "execution_count": 16,
   "id": "b6fbc564",
   "metadata": {},
   "outputs": [
    {
     "data": {
      "text/plain": [
       "33.60000000000001"
      ]
     },
     "execution_count": 16,
     "metadata": {},
     "output_type": "execute_result"
    }
   ],
   "source": [
    "wrds.quantile(0.54)"
   ]
  },
  {
   "cell_type": "code",
   "execution_count": 17,
   "id": "de6745a2",
   "metadata": {},
   "outputs": [
    {
     "data": {
      "text/plain": [
       "72.4"
      ]
     },
     "execution_count": 17,
     "metadata": {},
     "output_type": "execute_result"
    }
   ],
   "source": [
    "wrds.quantile(0.9)"
   ]
  },
  {
   "cell_type": "code",
   "execution_count": 18,
   "id": "8928ba76",
   "metadata": {},
   "outputs": [
    {
     "data": {
      "text/plain": [
       "77.6"
      ]
     },
     "execution_count": 18,
     "metadata": {},
     "output_type": "execute_result"
    }
   ],
   "source": [
    "wrds.quantile(0.95)"
   ]
  },
  {
   "cell_type": "code",
   "execution_count": 19,
   "id": "2a610668",
   "metadata": {},
   "outputs": [
    {
     "data": {
      "text/plain": [
       "87.91999999999999"
      ]
     },
     "execution_count": 19,
     "metadata": {},
     "output_type": "execute_result"
    }
   ],
   "source": [
    "wrds.quantile(0.99)"
   ]
  },
  {
   "cell_type": "markdown",
   "id": "6685604b",
   "metadata": {},
   "source": [
    "# \n",
    "\n",
    "\n",
    "\n",
    "\n",
    "\n",
    "\n",
    "\n",
    "\n",
    "\n",
    "# B2. TOKENIZATION\n",
    "\n",
    "Tokenization is a significant Natural Language Processing (NLP) task that involves breaking down a given text into smaller units called tokens. These tokens can represent complete words, parts of words, or even individual characters, including punctuation marks. It serves as a foundational step in NLP, facilitating various text processing and analysis tasks (Perry, 2021).\n",
    "\n",
    "Based on the definition above, we can categorize tokenization into three main types: word-level, sub-word-level, and character-level tokenization. For this particular analysis, we will focus on word-level tokenization using the Python Tensorflow library, specifically the tensorflow.keras.preprocessing.text.Tokenizer object. This powerful tool allows us to split a text into distinct words based on a defined delimiter. Each word is then assigned a unique numeric code, which forms the vocabulary for the entire dataset. The Tokenizer dynamically adapts to new words encountered during the process, ensuring a comprehensive representation.\n",
    "\n",
    "Once the tokenization process is complete, the algorithm proceeds to analyze the clusters of tokens for each review text, identifying and grouping together tokens with similar meanings or contexts. This analysis plays a crucial role in subsequent NLP tasks, enabling sentiment analysis, topic modeling, and other language-based insights."
   ]
  },
  {
   "cell_type": "code",
   "execution_count": 20,
   "id": "21e159fb",
   "metadata": {},
   "outputs": [],
   "source": [
    "# Exclude stop words from Customer Review text \n",
    "# Reference I4\n",
    "\n",
    "sw_ = stopwords.words('english')\n",
    "az_data['Customer Review'] = az_data['Customer Review'].apply(lambda a: ' '.join([w for w in a.split() if w not in (sw_)]))"
   ]
  },
  {
   "cell_type": "code",
   "execution_count": 21,
   "id": "786331e3",
   "metadata": {},
   "outputs": [],
   "source": [
    "# The Tokenization Process \n",
    "# Reference I5\n",
    "\n",
    "\n",
    "rv_data = az_data['Customer Review'].values\n",
    "tk = Tokenizer(num_words=5000)\n",
    "tk.fit_on_texts(rv_data)\n",
    "\n",
    "\n",
    "# Vocabulary Size\n",
    "vc = len(tk.word_index) + 1\n",
    "\n",
    "# Encoder\n",
    "enc = tk.texts_to_sequences(rv_data)"
   ]
  },
  {
   "cell_type": "code",
   "execution_count": 22,
   "id": "d02f7ad1",
   "metadata": {},
   "outputs": [
    {
     "name": "stdout",
     "output_type": "stream",
     "text": [
      "1749\n"
     ]
    }
   ],
   "source": [
    "# Print Vocabulary Lenth\n",
    "\n",
    "print(vc)"
   ]
  },
  {
   "cell_type": "code",
   "execution_count": 23,
   "id": "8819372b",
   "metadata": {},
   "outputs": [
    {
     "name": "stdout",
     "output_type": "stream",
     "text": [
      "impressed going original battery extended battery\n",
      "[97, 154, 182, 8, 439, 8]\n"
     ]
    }
   ],
   "source": [
    "# Print a review text and its encoded data\n",
    "    \n",
    "print(rv_data[11])\n",
    "print(enc[11])"
   ]
  },
  {
   "cell_type": "markdown",
   "id": "56cd5293",
   "metadata": {},
   "source": [
    "# \n",
    "\n",
    "\n",
    "\n",
    "\n",
    "\n",
    "\n",
    "\n",
    "# B3. PADDING PROCESS\n",
    "In the context of neural networks, it is essential for inputs to have consistent shapes and sizes. However, when dealing with text data in an LSTM network, sentences often vary in length, some being longer or shorter than others. To utilize LSTM networks effectively, it is necessary to ensure that all inputs have the same size. This is where the concept of \"padding\" comes into play.\n",
    "\n",
    "Padding is a preprocessing technique that involves standardizing the length of sentences by defining a maximum length for each sentence and adjusting their sizes accordingly. For shorter sentences, zeros are added to achieve the desired length, while longer sentences are truncated by dropping extra words beyond the defined length.\n",
    "\n",
    "In this particular analysis, the padding process is applied with a maximum length of 88 words. Before feeding the text sequences into the LSTM network, sentences will be padded to ensure uniformity and compatibility across all inputs, enabling the model to process the data effectively. By implementing padding, the LSTM network can handle varying-length text inputs and perform sentiment analysis accurately and efficiently."
   ]
  },
  {
   "cell_type": "code",
   "execution_count": 24,
   "id": "80d223cb",
   "metadata": {},
   "outputs": [],
   "source": [
    "# Apply padding to sequences.\n",
    "    \n",
    "pad = pad_sequences(enc, maxlen=88)"
   ]
  },
  {
   "cell_type": "code",
   "execution_count": 25,
   "id": "98bfdec3",
   "metadata": {},
   "outputs": [
    {
     "name": "stdout",
     "output_type": "stream",
     "text": [
      "[  0   0   0   0   0   0   0   0   0   0   0   0   0   0   0   0   0   0\n",
      "   0   0   0   0   0   0   0   0   0   0   0   0   0   0   0   0   0   0\n",
      "   0   0   0   0   0   0   0   0   0   0   0   0   0   0   0   0   0   0\n",
      "   0   0   0   0   0   0   0   0   0   0   0   0   0   0   0   0   0   0\n",
      "   0   0   0   0   0   0   0   0   0   0   0  85 699  13 246  42]\n"
     ]
    }
   ],
   "source": [
    "# Print any padded sequence.\n",
    "\n",
    "print(pad[14])"
   ]
  },
  {
   "cell_type": "markdown",
   "id": "d52d544e",
   "metadata": {},
   "source": [
    "# \n",
    "\n",
    "\n",
    "\n",
    "\n",
    "\n",
    "\n",
    "\n",
    "\n",
    "\n",
    "\n",
    "\n",
    "\n",
    "# B4. CATEGORIES OF SENTIMENT\n",
    "\n",
    "The data will undergo sentiment classification based on customer reviews' scores, which will be categorized into two types of sentiments:\n",
    "\n",
    "- 0: Negative\n",
    "- 1: Positive"
   ]
  },
  {
   "cell_type": "code",
   "execution_count": 26,
   "id": "e18cb869",
   "metadata": {},
   "outputs": [
    {
     "data": {
      "text/plain": [
       "0    500\n",
       "1    500\n",
       "Name: Sentiment Score, dtype: int64"
      ]
     },
     "execution_count": 26,
     "metadata": {},
     "output_type": "execute_result"
    }
   ],
   "source": [
    "# Calculate the total value of each score\n",
    "\n",
    "az_data['Sentiment Score'].value_counts()"
   ]
  },
  {
   "cell_type": "code",
   "execution_count": 27,
   "id": "7a83d77c",
   "metadata": {},
   "outputs": [],
   "source": [
    "# Convert scores to sentiments\n",
    "\n",
    "az_data['Customer Review'] = az_data['Customer Review'].apply(lambda z: 'Negative Feedback' \n",
    "                                                              if z == 0 else 'Positive Feedback')"
   ]
  },
  {
   "cell_type": "code",
   "execution_count": 28,
   "id": "5ae7b903",
   "metadata": {},
   "outputs": [
    {
     "data": {
      "text/plain": [
       "0    Positive Feedback\n",
       "1    Positive Feedback\n",
       "2    Positive Feedback\n",
       "3    Positive Feedback\n",
       "4    Positive Feedback\n",
       "Name: Customer Review, dtype: object"
      ]
     },
     "execution_count": 28,
     "metadata": {},
     "output_type": "execute_result"
    }
   ],
   "source": [
    "# Print Head \n",
    "\n",
    "az_data['Customer Review'].head()"
   ]
  },
  {
   "cell_type": "markdown",
   "id": "af526287",
   "metadata": {},
   "source": [
    "# \n",
    "\n",
    "\n",
    "\n",
    "\n",
    "\n",
    "# B5. STEPS TO PREPARE THE DATA\n",
    "\n",
    "- In Step 1 of the Data Preparation phase (Section B1), the customer review text is transformed to lower case to ensure uniformity in the text data.\n",
    "\n",
    "- Step 2, also part of the Data Preparation phase in Section B1, involves removing all unusual characters from the text. Non-alphabetic characters are not relevant for the Natural Language Processing (NLP) process. Only line breaks, spaces, and commas are retained.\n",
    "\n",
    "- Moving to Step 3, during the Tokenization phase in Section B2, all stop words are eliminated. These include prepositions, pronouns, articles, conjunctions, and other words that do not carry significant meaning in the context of sentiment analysis.\n",
    "\n",
    "- In Step 4, still in the Tokenization phase of Section B2, the remaining text data is tokenized. This process involves breaking down the text into individual words using a specific delimiter. Each word is then assigned a unique numeric encoding, forming the vocabulary for the entire dataset. The vocabulary is stored as an overall vocabulary list.\n",
    "\n",
    "- Step 5, which is also part of the Tokenization phase in Section B3, focuses on padding the tokenized data. This step ensures that all sentences have the same length. The maximum length for longer texts is set to 88 words, and shorter texts are padded with additional zeros to match this length.\n",
    "\n",
    "- In Step 6 (Section B4), the scores in the dataset are classified based on their sentiment types. Scores of 0 are labeled as Negative, while scores of 1 are labeled as Positive.\n",
    "\n",
    "- Step 7 involves splitting the data into predictor and response attributes. This step will be carried out in the subsequent code blocks.\n",
    "\n",
    "- Finally, in Step 8, the attributes are further divided into training and test sets. This step will also be performed in the upcoming code blocks."
   ]
  },
  {
   "cell_type": "code",
   "execution_count": 29,
   "id": "f9aab2b0",
   "metadata": {},
   "outputs": [],
   "source": [
    "# Independent and Dependent attribute data\n",
    "# Step 7\n",
    "\n",
    "y = az_data['Sentiment Score']\n",
    "X = pad"
   ]
  },
  {
   "cell_type": "code",
   "execution_count": 30,
   "id": "9680f249",
   "metadata": {},
   "outputs": [],
   "source": [
    "# Split data into training and testing sets\n",
    "# Step 8\n",
    "\n",
    "X_train, X_test, y_train, y_test = train_test_split(X, y, test_size=0.25, shuffle=True)"
   ]
  },
  {
   "cell_type": "code",
   "execution_count": 31,
   "id": "84da2d79",
   "metadata": {},
   "outputs": [
    {
     "name": "stdout",
     "output_type": "stream",
     "text": [
      "(750, 88) (250, 88) (750,) (250,)\n"
     ]
    }
   ],
   "source": [
    "# Print the domension of the arrays\n",
    "\n",
    "print(X_train.shape, X_test.shape, y_train.shape, y_test.shape)"
   ]
  },
  {
   "cell_type": "markdown",
   "id": "2dddd90e",
   "metadata": {},
   "source": [
    "# \n",
    "\n",
    "\n",
    "\n",
    "\n",
    "\n",
    "\n",
    "\n",
    "# B6. PREPARED DATASET"
   ]
  },
  {
   "cell_type": "code",
   "execution_count": 32,
   "id": "e7582a17",
   "metadata": {},
   "outputs": [],
   "source": [
    "# Export Data Set as an Excel file\n",
    "\n",
    "az_data.to_excel('amazon_preprocessed_data.xlsx', encoding = 'utf-8', index = False,)"
   ]
  },
  {
   "cell_type": "markdown",
   "id": "e61d59db",
   "metadata": {},
   "source": [
    "# \n",
    "\n",
    "\n",
    "\n",
    "\n",
    "\n",
    "\n",
    "\n",
    "\n",
    "\n",
    "\n",
    "\n",
    "\n",
    "\n",
    "\n",
    "\n",
    "\n",
    "\n",
    "\n",
    "\n",
    "\n",
    "\n",
    "\n",
    "\n",
    "# C1. MODEL SUMMARY\n"
   ]
  },
  {
   "cell_type": "code",
   "execution_count": 33,
   "id": "8e900303",
   "metadata": {},
   "outputs": [],
   "source": [
    "# Develop lstm model \n",
    "# Reference I5\n",
    "\n",
    "lstm = Sequential()\n",
    "lstm.add(Embedding(vc, round(length_), input_length=X.shape[1]) )\n",
    "lstm.add(SpatialDropout1D(0.25))\n",
    "lstm.add(LSTM(22, dropout=0.25, recurrent_dropout=0.25))\n",
    "lstm.add(Dropout(0.2))\n",
    "lstm.add(Dense(1,activation='sigmoid'))\n",
    "lstm.compile(loss = 'binary_crossentropy', optimizer='adam', metrics = ['accuracy'])"
   ]
  },
  {
   "cell_type": "code",
   "execution_count": 34,
   "id": "e16ba77d",
   "metadata": {},
   "outputs": [
    {
     "name": "stdout",
     "output_type": "stream",
     "text": [
      "Model: \"sequential\"\n",
      "_________________________________________________________________\n",
      " Layer (type)                Output Shape              Param #   \n",
      "=================================================================\n",
      " embedding (Embedding)       (None, 88, 6)             10494     \n",
      "                                                                 \n",
      " spatial_dropout1d (Spatial  (None, 88, 6)             0         \n",
      " Dropout1D)                                                      \n",
      "                                                                 \n",
      " lstm (LSTM)                 (None, 22)                2552      \n",
      "                                                                 \n",
      " dropout (Dropout)           (None, 22)                0         \n",
      "                                                                 \n",
      " dense (Dense)               (None, 1)                 23        \n",
      "                                                                 \n",
      "=================================================================\n",
      "Total params: 13069 (51.05 KB)\n",
      "Trainable params: 13069 (51.05 KB)\n",
      "Non-trainable params: 0 (0.00 Byte)\n",
      "_________________________________________________________________\n",
      "None\n"
     ]
    }
   ],
   "source": [
    "# Print the model's summary\n",
    "\n",
    "print(lstm.summary())"
   ]
  },
  {
   "cell_type": "markdown",
   "id": "dd3a73e5",
   "metadata": {},
   "source": [
    "# \n",
    "\n",
    "\n",
    "\n",
    "\n",
    "\n",
    "\n",
    "\n",
    "# C2. NETWORK ARCHITECTURE\n",
    "\n",
    "The LSTM network in this setup comprises six distinct layers, each serving a specific purpose:\n",
    "\n",
    "1. The Embedding Layer: As the initial hidden layer, the Embedding layer plays a crucial role in learning embeddings while simultaneously training the deep learning model. It requires three essential parameters: the vocabulary size, sequence length, and the embedding length.\n",
    "\n",
    "2. The SpatialDropout1d: This layer operates on the input data, dropping entire one-dimensional feature maps instead of individual elements. The parameter utilized here is a decimal representing the dropout rate for the input units.\n",
    "\n",
    "3. LSTM Layer: As extensively explained in Section A3, this input layer is key for processing sequential data. The LSTM layer involves several parameters, including the dropout rate, the number of nodes (units), and the recurrent dropout rate.\n",
    "\n",
    "4. The Dropout Layer: Functioning as a mask, this input layer nullifies the contribution of certain neurons to the subsequent layer while leaving others unaffected. The parameter used here is a decimal that determines the dropout rate for the input units.\n",
    "\n",
    "5. The Dense Layer: Positioned as the final input layer, the Dense layer embodies a traditional fully connected neural network, where each input node is connected to every output node. The parameters applied in this layer are the number of nodes and the activation function.\n",
    "\n",
    "6. The Output Layer: In the output layer, essential parameters such as the optimizer, loss function, and metric are defined. These parameters are instrumental in generating the desired output of the neural network."
   ]
  },
  {
   "cell_type": "markdown",
   "id": "7e4a3556",
   "metadata": {},
   "source": [
    "# \n",
    "\n",
    "\n",
    "\n",
    "# C3. HYPERPARAMETERS\n",
    "\n",
    "\n",
    "- Activation Functions: The decision to use the sigmoid function was influenced by the binary nature of the output. Given that the task involves binary classification, the sigmoid activation function is well-suited for mapping the final predictions to probabilities between 0 and 1.\n",
    "\n",
    "- Number of Nodes per Layer: To accommodate the sigmoid activation function in the dense layer, a single node was selected. As for the LSTM layer, I opted for 22 nodes, which represents a quarter of the number of nodes used in the Embedding Layer. This choice aims to strike a balance between model complexity and capturing relevant patterns in the data.\n",
    "\n",
    "- Loss Function: The adoption of binary crossentropy as the loss function is a consequence of the binary classification nature of the problem. This particular loss function is well-established for binary classification tasks, facilitating the model's ability to optimize and make accurate predictions.\n",
    "\n",
    "- Optimizer: For its high efficiency and compatibility with LSTM networks, the Adam optimizer was chosen. Adam is an adaptive learning rate optimization algorithm that effectively updates model weights and helps converge faster during training.\n",
    "\n",
    "- Stopping Criteria: The stopping criteria for the training process involves monitoring the loss function of the validation set for five consecutive epochs. Once this criterion is met, the training process concludes. The implementation of this stopping criteria can be found in Section D1.\n",
    "\n",
    "- Evaluation Metric: In this model, the standard evaluation metric used is accuracy. Accuracy is a reliable measure to assess the performance of the model, as it quantifies the percentage of correct predictions compared to the actual labels in the dataset."
   ]
  },
  {
   "cell_type": "markdown",
   "id": "39a6e305",
   "metadata": {},
   "source": [
    "# \n",
    "\n",
    "\n",
    "\n",
    "\n",
    "\n",
    "\n",
    "\n",
    "# D1. STOPPING CRITERIA\n",
    "\n",
    "Using an excessive number of epochs during model training can lead to overfitting, causing the model to become overly specialized to the training dataset and perform poorly on unseen data. Conversely, too few epochs may result in an underfit model that fails to capture the underlying patterns in the data. To address these issues, the concept of \"early stopping\" is employed.\n",
    "\n",
    "Early stopping is a technique that involves setting a large number of training epochs and continuously monitoring the model's performance on a separate validation dataset. As the training progresses, if the model's performance on the validation dataset ceases to improve or starts to degrade, the training process is halted before completing all the epochs. This helps prevent overfitting and ensures that the model is stopped at the point where it demonstrates the best generalization ability on unseen data (Brownlee, 2018)."
   ]
  },
  {
   "cell_type": "code",
   "execution_count": 35,
   "id": "f1cbc82a",
   "metadata": {},
   "outputs": [],
   "source": [
    "# Early Stopping Criteria\n",
    "\n",
    "stop_ = EarlyStopping(mode='min', monitor='val_loss', patience=5, verbose=1)"
   ]
  },
  {
   "cell_type": "markdown",
   "id": "e3b9e496",
   "metadata": {},
   "source": [
    "The patience parameter was set to five in the above code execution implying that if there is a loss of accuracy in five successive epochs, the process will have to end."
   ]
  },
  {
   "cell_type": "markdown",
   "id": "092c7427",
   "metadata": {},
   "source": [
    "# \n",
    "\n",
    "\n",
    "\n",
    "\n",
    "\n",
    "\n",
    "\n",
    "# D2. TRAINING PROCESS"
   ]
  },
  {
   "cell_type": "code",
   "execution_count": 36,
   "id": "7039c3ed",
   "metadata": {},
   "outputs": [
    {
     "name": "stdout",
     "output_type": "stream",
     "text": [
      "Epoch 1/100\n",
      "19/19 [==============================] - 9s 144ms/step - loss: 0.6930 - accuracy: 0.4964 - val_loss: 0.6927 - val_accuracy: 0.5372\n",
      "Epoch 2/100\n",
      "19/19 [==============================] - 2s 106ms/step - loss: 0.6912 - accuracy: 0.6228 - val_loss: 0.6921 - val_accuracy: 0.5532\n",
      "Epoch 3/100\n",
      "19/19 [==============================] - 2s 103ms/step - loss: 0.6893 - accuracy: 0.6014 - val_loss: 0.6907 - val_accuracy: 0.5798\n",
      "Epoch 4/100\n",
      "19/19 [==============================] - 2s 108ms/step - loss: 0.6845 - accuracy: 0.6637 - val_loss: 0.6872 - val_accuracy: 0.6436\n",
      "Epoch 5/100\n",
      "19/19 [==============================] - 2s 111ms/step - loss: 0.6731 - accuracy: 0.7740 - val_loss: 0.6789 - val_accuracy: 0.6277\n",
      "Epoch 6/100\n",
      "19/19 [==============================] - 2s 109ms/step - loss: 0.6494 - accuracy: 0.6868 - val_loss: 0.6706 - val_accuracy: 0.5798\n",
      "Epoch 7/100\n",
      "19/19 [==============================] - 2s 110ms/step - loss: 0.6155 - accuracy: 0.7794 - val_loss: 0.6424 - val_accuracy: 0.7394\n",
      "Epoch 8/100\n",
      "19/19 [==============================] - 2s 111ms/step - loss: 0.5445 - accuracy: 0.8399 - val_loss: 0.6085 - val_accuracy: 0.7394\n",
      "Epoch 9/100\n",
      "19/19 [==============================] - 2s 107ms/step - loss: 0.4721 - accuracy: 0.8897 - val_loss: 0.5751 - val_accuracy: 0.7287\n",
      "Epoch 10/100\n",
      "19/19 [==============================] - 2s 113ms/step - loss: 0.3904 - accuracy: 0.8950 - val_loss: 0.5426 - val_accuracy: 0.7394\n",
      "Epoch 11/100\n",
      "19/19 [==============================] - 2s 112ms/step - loss: 0.3085 - accuracy: 0.9253 - val_loss: 0.5493 - val_accuracy: 0.7234\n",
      "Epoch 12/100\n",
      "19/19 [==============================] - 2s 111ms/step - loss: 0.2638 - accuracy: 0.9270 - val_loss: 0.5203 - val_accuracy: 0.7447\n",
      "Epoch 13/100\n",
      "19/19 [==============================] - 2s 111ms/step - loss: 0.2086 - accuracy: 0.9431 - val_loss: 0.5497 - val_accuracy: 0.7340\n",
      "Epoch 14/100\n",
      "19/19 [==============================] - 2s 111ms/step - loss: 0.1924 - accuracy: 0.9466 - val_loss: 0.5353 - val_accuracy: 0.7340\n",
      "Epoch 15/100\n",
      "19/19 [==============================] - 2s 106ms/step - loss: 0.1714 - accuracy: 0.9662 - val_loss: 0.5530 - val_accuracy: 0.7394\n",
      "Epoch 16/100\n",
      "19/19 [==============================] - 2s 111ms/step - loss: 0.1480 - accuracy: 0.9537 - val_loss: 0.5372 - val_accuracy: 0.7500\n",
      "Epoch 17/100\n",
      "19/19 [==============================] - 2s 110ms/step - loss: 0.1123 - accuracy: 0.9733 - val_loss: 0.5688 - val_accuracy: 0.7447\n",
      "Epoch 17: early stopping\n"
     ]
    }
   ],
   "source": [
    "# Model Training \n",
    "# Reference I5\n",
    "\n",
    "trn = lstm.fit(X_train,y_train, validation_split=0.25, batch_size=30, callbacks=[stop_], epochs=100)"
   ]
  },
  {
   "cell_type": "code",
   "execution_count": 37,
   "id": "ac51d0f1",
   "metadata": {},
   "outputs": [
    {
     "name": "stdout",
     "output_type": "stream",
     "text": [
      "Training Data Accuracy: 92.40%\n",
      "Test Data Accuracy: 76.80%\n"
     ]
    }
   ],
   "source": [
    "# Model Evaluation\n",
    "\n",
    "_, acc_train = lstm.evaluate(X_train, y_train, verbose=0)\n",
    "_, acc_test = lstm.evaluate(X_test, y_test, verbose=0)\n",
    "\n",
    "print('Training Data Accuracy: {0:.2f}%'.format(acc_train*100))\n",
    "print('Test Data Accuracy: {0:.2f}%'.format(acc_test*100))"
   ]
  },
  {
   "cell_type": "code",
   "execution_count": 38,
   "id": "0f33d81a",
   "metadata": {},
   "outputs": [
    {
     "data": {
      "image/png": "[encoded data removed]",
      "text/plain": [
       "<Figure size 432x288 with 1 Axes>"
      ]
     },
     "metadata": {
      "needs_background": "light"
     },
     "output_type": "display_data"
    }
   ],
   "source": [
    "# Visualize model training history\n",
    "\n",
    "plt.plot(trn.history['loss'], label='Train Data')\n",
    "plt.plot(trn.history['val_loss'], label='Test Data')\n",
    "plt.legend()\n",
    "plt.show()"
   ]
  },
  {
   "cell_type": "markdown",
   "id": "8780a362",
   "metadata": {},
   "source": [
    "# \n",
    "\n",
    "\n",
    "\n",
    "\n",
    "\n",
    "\n",
    "# D3. FIT\n",
    "\n",
    "Based on the accuracy results presented in Section D2, there are indications that the model might be overfitting. Specifically, the model achieves an impressive accuracy of around 92.40% on the training data, but the accuracy drops to approximately 76.80% on the test data. Such a significant disparity between training and test accuracies suggests that the model is not generalizing well to unseen data, despite efforts made to prevent overfitting.\n",
    "\n",
    "In Section D1, a stopping criteria was implemented to prevent overfitting. This criteria allows for the specification of a large number of training epochs but halts the training process if the model's performance does not improve on a hold-out validation dataset. Additionally, both Spatial_Dropout1d and Dropout layers were included in the model architecture. These layers randomly ignore certain nodes during training, preventing the model from relying too heavily on specific nodes and reducing the likelihood of inheriting mistakes from previous nodes.\n",
    "\n",
    "However, despite these measures, the model's performance on the test data indicates the possibility of overfitting. It is essential to further investigate and fine-tune the model to enhance its generalization capabilities and improve its performance on unseen data."
   ]
  },
  {
   "cell_type": "markdown",
   "id": "82e3c557",
   "metadata": {},
   "source": [
    "# \n",
    "\n",
    "\n",
    "\n",
    "\n",
    "# D4. PREDICTIVE ACCURACY\n",
    "The classification report and heatmap below provide insights into the model's predictive accuracy. "
   ]
  },
  {
   "cell_type": "code",
   "execution_count": 39,
   "id": "98a2bfe0",
   "metadata": {},
   "outputs": [
    {
     "name": "stdout",
     "output_type": "stream",
     "text": [
      "8/8 [==============================] - 1s 16ms/step\n"
     ]
    }
   ],
   "source": [
    "# Acquire predicted test values\n",
    "\n",
    "y_pred = lstm.predict(X_test).round()"
   ]
  },
  {
   "cell_type": "code",
   "execution_count": 40,
   "id": "1d7fc52d",
   "metadata": {},
   "outputs": [
    {
     "name": "stdout",
     "output_type": "stream",
     "text": [
      "              precision    recall  f1-score   support\n",
      "\n",
      "           1       0.76      0.79      0.77       126\n",
      "           0       0.78      0.75      0.76       124\n",
      "\n",
      "    accuracy                           0.77       250\n",
      "   macro avg       0.77      0.77      0.77       250\n",
      "weighted avg       0.77      0.77      0.77       250\n",
      "\n"
     ]
    }
   ],
   "source": [
    "# Model's Classification Report\n",
    "\n",
    "rep = classification_report(y_test,y_pred,labels=[1,0])\n",
    "print(rep)"
   ]
  },
  {
   "cell_type": "code",
   "execution_count": 41,
   "id": "ab56628c",
   "metadata": {
    "scrolled": true
   },
   "outputs": [
    {
     "data": {
      "text/plain": [
       "<AxesSubplot:>"
      ]
     },
     "execution_count": 41,
     "metadata": {},
     "output_type": "execute_result"
    },
    {
     "data": {
      "image/png": "[encoded data removed]",
      "text/plain": [
       "<Figure size 432x288 with 2 Axes>"
      ]
     },
     "metadata": {
      "needs_background": "light"
     },
     "output_type": "display_data"
    }
   ],
   "source": [
    "# Confusion matrix\n",
    "\n",
    "mtrx = confusion_matrix(y_test, y_pred)\n",
    "sns.heatmap(mtrx/np.sum(mtrx), annot=True, fmt=' .2%', cmap='Accent')"
   ]
  },
  {
   "cell_type": "markdown",
   "id": "10fc8e58",
   "metadata": {},
   "source": [
    "Based on the findings in the above report, we can infer that the model demonstrates reasonably accurate predictions concerning user sentiments. However, my confidence in the model is not very high due to the notable probability of making incorrect predictions."
   ]
  },
  {
   "cell_type": "markdown",
   "id": "d4b5b9f8",
   "metadata": {},
   "source": [
    "# \n",
    "\n",
    "\n",
    "\n",
    "\n",
    "\n",
    "\n",
    "\n",
    "# E. CODE\n",
    "\n",
    "In the code blocks above, you can find all the codes used to save the trained neural network within the model."
   ]
  },
  {
   "cell_type": "markdown",
   "id": "b342bb99",
   "metadata": {},
   "source": [
    "# \n",
    "\n",
    "\n",
    "\n",
    "\n",
    "\n",
    "\n",
    "\n",
    "# F. FUNCTIONALITY\n",
    "In terms of functionality, this neural network model exhibits both positive and negative aspects. On the negative side, the model's accuracy is a concern, as it tends to achieve very high predictions on the training data but shows a noticeable drop in accuracy on the test data, although it still performs reasonably well. Consequently, a considerable number of reviews may be misclassified with respect to their sentiment.\n",
    "\n",
    "On the positive side, the model demonstrates remarkable speed during training. This can be attributed to its simple architecture and the relatively small dataset used for this analysis. As a result, the model's training process completes within a few seconds, implying that there are no significant processing costs, and all results are generated promptly."
   ]
  },
  {
   "cell_type": "markdown",
   "id": "68bb0f6e",
   "metadata": {},
   "source": [
    "# \n",
    "\n",
    "\n",
    "\n",
    "# G. RECOMMENDATIONS\n",
    "\n",
    "I would advise Amazon stakeholders to conduct further analysis on this data to develop a more efficient model capable of making nearly perfect predictions on user sentiments. To achieve this, they can explore the following approaches:\n",
    "\n",
    "1. Hyperparameter Tuning: Experiment with different hyperparameters such as learning rate, batch size, number of epochs, and dropout rates. By systematically varying these parameters, the model's performance can be fine-tuned to achieve better accuracy on both training and test datasets.\n",
    "\n",
    "2. Cross-Validation: Employ cross-validation techniques to ensure the model's generalization performance. This can help detect overfitting issues and provide a more realistic estimate of the model's accuracy."
   ]
  },
  {
   "cell_type": "markdown",
   "id": "2bb5eea3",
   "metadata": {},
   "source": [
    "# \n",
    "\n",
    "\n",
    "\n",
    "\n",
    "\n",
    "\n",
    "\n",
    "\n",
    "# H. REPORTING\n",
    "\n",
    "This document was produced using the Jupyter Notebook environment, and then converted to and reported in a PDF format."
   ]
  },
  {
   "cell_type": "markdown",
   "id": "71c92f8a",
   "metadata": {},
   "source": [
    "# \n",
    "\n",
    "\n",
    "\n",
    "\n",
    "\n",
    "\n",
    "\n",
    "\n",
    "# I. SOURCES FOR THIRD-PARTY CODE\n",
    "1: https://stackoverflow.com/questions/41610543/corpora-stopwords-not-found-when-import-nltk-library\n",
    "\n",
    "2: https://www.geeksforgeeks.org/how-to-read-text-files-with-pandas/\n",
    "\n",
    "3: https://stackoverflow.com/questions/22520932/python-remove-all-non-alphabet-chars-from-string\n",
    "\n",
    "4: https://stackabuse.com/removing-stop-words-from-strings-in-python/\n",
    "\n",
    "5: https://www.analyticsvidhya.com/blog/2021/06/natural-language-processing-sentiment-analysis-using-lstm/"
   ]
  },
  {
   "cell_type": "markdown",
   "id": "d6ab6c82",
   "metadata": {},
   "source": [
    "# \n",
    "\n",
    "\n",
    "\n",
    "\n",
    "\n",
    "\n",
    "\n",
    "\n",
    "# J. SOURCES\n",
    "1: Intellipaat (2022, February 5). What is LSTM? Introduction to Long Short Term Memory. Retrieved July 22 2023 at  https://intellipaat.com/blog/what-is-lstm/\n",
    "\n",
    "2: Perry T (2021,  February 1). What is Tokenization in Natural Language Processing (NLP)?. Retrieved July 22 2023 at https://www.machinelearningplus.com/nlp/what-is-tokenization-in-natural-language-processing/\n",
    "\n",
    "3: Brownlee J (2018, December 10). Use Early Stopping to Halt the Training of Neural Networks At the Right Time. Retrieved July 22 2023 at https://machinelearningmastery.com/how-to-stop-training-deep-neural-networks-at-the-right-time-using-early-stopping/"
   ]
  }
 ],
 "metadata": {
  "kernelspec": {
   "display_name": "Python 3 (ipykernel)",
   "language": "python",
   "name": "python3"
  },
  "language_info": {
   "codemirror_mode": {
    "name": "ipython",
    "version": 3
   },
   "file_extension": ".py",
   "mimetype": "text/x-python",
   "name": "python",
   "nbconvert_exporter": "python",
   "pygments_lexer": "ipython3",
   "version": "3.9.7"
  }
 },
 "nbformat": 4,
 "nbformat_minor": 5
}
